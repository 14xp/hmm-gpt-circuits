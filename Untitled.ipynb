{
 "cells": [
  {
   "cell_type": "code",
   "execution_count": 3,
   "id": "c709fe98-13d5-4f66-ad96-6fdcbd3e6f79",
   "metadata": {},
   "outputs": [],
   "source": [
    "import torch\n",
    "import safetensors.torch"
   ]
  },
  {
   "cell_type": "code",
   "execution_count": 5,
   "id": "81bd6f62-a203-4411-a83b-8a3a1b5a33cd",
   "metadata": {},
   "outputs": [],
   "source": [
    "est = safetensors.torch.load_file('Andy/data/direct_estimation.safetensors')"
   ]
  },
  {
   "cell_type": "code",
   "execution_count": 7,
   "id": "f0ba87a0-40c8-4c6c-86ae-a608d5a1f690",
   "metadata": {},
   "outputs": [
    {
     "data": {
      "text/plain": [
       "dict_keys(['0-1 occurences', '0-1 scores', '1-2 occurences', '1-2 scores', '2-3 occurences', '2-3 scores', '3-4 occurences', '3-4 scores'])"
      ]
     },
     "execution_count": 7,
     "metadata": {},
     "output_type": "execute_result"
    }
   ],
   "source": [
    "est.keys()"
   ]
  },
  {
   "cell_type": "code",
   "execution_count": 9,
   "id": "3291c222-8aa6-4d3d-930c-cdf04f69af53",
   "metadata": {},
   "outputs": [
    {
     "data": {
      "text/plain": [
       "tensor([[  0,  11],\n",
       "        [  0,  21],\n",
       "        [  0,  52],\n",
       "        ...,\n",
       "        [127, 443],\n",
       "        [127, 451],\n",
       "        [127, 498]])"
      ]
     },
     "execution_count": 9,
     "metadata": {},
     "output_type": "execute_result"
    }
   ],
   "source": [
    "est['0-1 scores'].nonzero()"
   ]
  },
  {
   "cell_type": "code",
   "execution_count": null,
   "id": "0ef222a7-c606-4c67-82ca-db0b8892d100",
   "metadata": {},
   "outputs": [],
   "source": []
  }
 ],
 "metadata": {
  "kernelspec": {
   "display_name": "Python (myenv)",
   "language": "python",
   "name": "myenv"
  },
  "language_info": {
   "codemirror_mode": {
    "name": "ipython",
    "version": 3
   },
   "file_extension": ".py",
   "mimetype": "text/x-python",
   "name": "python",
   "nbconvert_exporter": "python",
   "pygments_lexer": "ipython3",
   "version": "3.13.2"
  }
 },
 "nbformat": 4,
 "nbformat_minor": 5
}
